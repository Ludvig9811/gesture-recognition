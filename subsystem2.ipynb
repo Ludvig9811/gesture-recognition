{
 "cells": [
  {
   "cell_type": "markdown",
   "id": "ac5c38fa",
   "metadata": {},
   "source": [
    "# Imports"
   ]
  },
  {
   "cell_type": "code",
   "execution_count": 1,
   "id": "ac146b1e",
   "metadata": {},
   "outputs": [],
   "source": [
    "import numpy as np\n",
    "import torch\n",
    "from torch import nn\n",
    "import pandas as pd\n",
    "import pickle\n",
    "from sklearn.metrics import ConfusionMatrixDisplay\n",
    "import torchvision\n",
    "import matplotlib.pyplot as plt\n",
    "import os"
   ]
  },
  {
   "cell_type": "markdown",
   "id": "52e3f8bc",
   "metadata": {},
   "source": [
    "# CUDA cores goes brrrrr"
   ]
  },
  {
   "cell_type": "code",
   "execution_count": 2,
   "id": "97286588",
   "metadata": {},
   "outputs": [
    {
     "data": {
      "text/plain": [
       "True"
      ]
     },
     "execution_count": 2,
     "metadata": {},
     "output_type": "execute_result"
    }
   ],
   "source": [
    "device = torch.device(\"cuda\" if torch.cuda.is_available() else \"cpu\")\n",
    "torch.cuda.is_available()"
   ]
  },
  {
   "cell_type": "markdown",
   "id": "74c0af98",
   "metadata": {},
   "source": [
    "# Data pre-processing\n",
    "## Loading data"
   ]
  },
  {
   "cell_type": "code",
   "execution_count": 3,
   "id": "efbeaa0f",
   "metadata": {},
   "outputs": [
    {
     "name": "stderr",
     "output_type": "stream",
     "text": [
      "C:\\Users\\ludvi\\anaconda3\\lib\\site-packages\\torchvision\\io\\video.py:162: UserWarning: The pts_unit 'pts' gives wrong results. Please use pts_unit 'sec'.\n",
      "  warnings.warn(\"The pts_unit 'pts' gives wrong results. Please use pts_unit 'sec'.\")\n",
      "C:\\Users\\ludvi\\anaconda3\\lib\\site-packages\\torchvision\\io\\video.py:162: UserWarning: The pts_unit 'pts' gives wrong results. Please use pts_unit 'sec'.\n",
      "  warnings.warn(\"The pts_unit 'pts' gives wrong results. Please use pts_unit 'sec'.\")\n",
      "C:\\Users\\ludvi\\anaconda3\\lib\\site-packages\\torchvision\\io\\video.py:162: UserWarning: The pts_unit 'pts' gives wrong results. Please use pts_unit 'sec'.\n",
      "  warnings.warn(\"The pts_unit 'pts' gives wrong results. Please use pts_unit 'sec'.\")\n",
      "C:\\Users\\ludvi\\anaconda3\\lib\\site-packages\\torchvision\\io\\video.py:162: UserWarning: The pts_unit 'pts' gives wrong results. Please use pts_unit 'sec'.\n",
      "  warnings.warn(\"The pts_unit 'pts' gives wrong results. Please use pts_unit 'sec'.\")\n",
      "C:\\Users\\ludvi\\anaconda3\\lib\\site-packages\\torchvision\\io\\video.py:162: UserWarning: The pts_unit 'pts' gives wrong results. Please use pts_unit 'sec'.\n",
      "  warnings.warn(\"The pts_unit 'pts' gives wrong results. Please use pts_unit 'sec'.\")\n",
      "C:\\Users\\ludvi\\anaconda3\\lib\\site-packages\\torchvision\\io\\video.py:162: UserWarning: The pts_unit 'pts' gives wrong results. Please use pts_unit 'sec'.\n",
      "  warnings.warn(\"The pts_unit 'pts' gives wrong results. Please use pts_unit 'sec'.\")\n"
     ]
    },
    {
     "name": "stdout",
     "output_type": "stream",
     "text": [
      "Success!\n"
     ]
    }
   ],
   "source": [
    "letters = [\"A\", \"B\", \"C\", \"L\", \"R\", \"U\"]\n",
    "data = []\n",
    "removed_videos = {}\n",
    "\n",
    "frames_per_video = 80\n",
    "\n",
    "for letter in letters:\n",
    "    \n",
    "    removed_videos[letter] = []\n",
    "    anno_df = pd.read_csv(\"data/ASL_letter_\" + letter + \"/annotations.csv\")\n",
    "    nr = 0\n",
    "    while True:\n",
    "            \n",
    "        try:\n",
    "            \n",
    "            video = torchvision.io.read_video(\"data/ASL_letter_\" + letter + \"/videos/video_\" + str(nr) + \".mp4\")\n",
    "            if video[0].shape[1] == 480 and video[0].shape[2] == 640:\n",
    "                for i in range(frames_per_video):\n",
    "                    frame = np.random.randint(0, video[0].shape[0])\n",
    "                    \n",
    "                    frame_df = anno_df.loc[np.logical_and(anno_df['video_idx'] == nr, anno_df['frame'] == frame)]\n",
    "                    x = torch.tensor(frame_df['x'].values)\n",
    "                    y = torch.tensor(frame_df['y'].values)\n",
    "\n",
    "                    annotations = np.array([])\n",
    "                    for i in range(x.shape[0]):\n",
    "                        annotations = np.append(annotations, [x[i], y[i]])\n",
    "                        \n",
    "                    labels = [ 1 if x == letter else 0 for x in letters ]\n",
    "                    labels = torch.tensor(labels, dtype=torch.float32)\n",
    "                    \n",
    "                    data.append((torch.tensor(annotations, dtype=torch.float32).to(device), labels.to(device)))\n",
    "            else:\n",
    "                removed_videos[letter].append(nr)\n",
    "                \n",
    "            nr += 1\n",
    "            \n",
    "        except RuntimeError:\n",
    "            break\n",
    "\n",
    "print(\"Success!\")"
   ]
  },
  {
   "cell_type": "markdown",
   "id": "7f36cfc1",
   "metadata": {},
   "source": [
    "## Splitting the data"
   ]
  },
  {
   "cell_type": "code",
   "execution_count": 4,
   "id": "ed59dc19",
   "metadata": {},
   "outputs": [
    {
     "data": {
      "text/plain": [
       "(12800, 3360)"
      ]
     },
     "execution_count": 4,
     "metadata": {},
     "output_type": "execute_result"
    }
   ],
   "source": [
    "split = 0.8\n",
    "training_data = []\n",
    "validation_data = []\n",
    "\n",
    "total_videos = 0\n",
    "for letter in letters:\n",
    "    _, _, files = next(os.walk(\"data/ASL_letter_\" + letter + \"/videos\"))\n",
    "    file_count = len(files) - len(removed_videos[letter])\n",
    "    training_data = training_data + data[total_videos*frames_per_video:total_videos*frames_per_video + frames_per_video*int(split*file_count)]\n",
    "    validation_data = validation_data + data[total_videos*frames_per_video + frames_per_video*int(split*file_count):total_videos*frames_per_video + frames_per_video*file_count]\n",
    "    total_videos += file_count\n",
    "\n",
    "len(training_data), len(validation_data)"
   ]
  },
  {
   "cell_type": "markdown",
   "id": "aea7ad36",
   "metadata": {},
   "source": [
    "# Pickle data"
   ]
  },
  {
   "cell_type": "code",
   "execution_count": 7,
   "id": "108eab8b",
   "metadata": {},
   "outputs": [],
   "source": [
    "file = open('training_data2', 'wb')\n",
    "pickle.dump(training_data, file)\n",
    "file.close()\n",
    "\n",
    "file = open('validation_data2', 'wb')\n",
    "pickle.dump(validation_data, file)\n",
    "file.close()"
   ]
  },
  {
   "cell_type": "code",
   "execution_count": 3,
   "id": "ff0902d7",
   "metadata": {},
   "outputs": [],
   "source": [
    "file = open('training_data2', 'rb')\n",
    "training_data = pickle.load(file)\n",
    "file.close()\n",
    "\n",
    "file = open('validation_data2', 'rb')\n",
    "validation_data = pickle.load(file)\n",
    "file.close()"
   ]
  },
  {
   "cell_type": "markdown",
   "id": "6ed562f5",
   "metadata": {},
   "source": [
    "## Creating dataset class"
   ]
  },
  {
   "cell_type": "code",
   "execution_count": 4,
   "id": "cc50831f",
   "metadata": {},
   "outputs": [],
   "source": [
    "class LandmarkDataset(torch.utils.data.Dataset):\n",
    "    \n",
    "    def __init__(self, d):\n",
    "        self.data = d\n",
    "    \n",
    "    def __len__(self):\n",
    "        return len(self.data)\n",
    "    \n",
    "    def __getitem__(self, idx):\n",
    "        datapoint = self.data[idx]\n",
    "        return datapoint[0], datapoint[1]"
   ]
  },
  {
   "cell_type": "markdown",
   "id": "10f40e1c",
   "metadata": {},
   "source": [
    "## Creating dataloaders"
   ]
  },
  {
   "cell_type": "code",
   "execution_count": 5,
   "id": "7d323bc6",
   "metadata": {},
   "outputs": [],
   "source": [
    "batch_size = 1000\n",
    "\n",
    "training_set = LandmarkDataset(training_data)\n",
    "validation_set = LandmarkDataset(validation_data)\n",
    "\n",
    "train_dataloader = torch.utils.data.DataLoader(training_set, batch_size=batch_size, shuffle=True)\n",
    "validation_dataloader = torch.utils.data.DataLoader(validation_set, batch_size=batch_size, shuffle=True)"
   ]
  },
  {
   "cell_type": "markdown",
   "id": "1a4aa81b",
   "metadata": {},
   "source": [
    "# Modelling"
   ]
  },
  {
   "cell_type": "code",
   "execution_count": 6,
   "id": "b0e76411",
   "metadata": {},
   "outputs": [
    {
     "data": {
      "text/plain": [
       "SimpleANN(\n",
       "  (ann): Sequential(\n",
       "    (0): Linear(in_features=42, out_features=100, bias=True)\n",
       "    (1): ReLU()\n",
       "    (2): Linear(in_features=100, out_features=100, bias=True)\n",
       "    (3): ReLU()\n",
       "    (4): Linear(in_features=100, out_features=100, bias=True)\n",
       "    (5): ReLU()\n",
       "    (6): Linear(in_features=100, out_features=100, bias=True)\n",
       "    (7): ReLU()\n",
       "    (8): Linear(in_features=100, out_features=100, bias=True)\n",
       "    (9): ReLU()\n",
       "    (10): Linear(in_features=100, out_features=6, bias=True)\n",
       "    (11): Sigmoid()\n",
       "  )\n",
       ")"
      ]
     },
     "execution_count": 6,
     "metadata": {},
     "output_type": "execute_result"
    }
   ],
   "source": [
    "class SimpleANN(nn.Module):\n",
    "    def __init__(self):\n",
    "        super().__init__()\n",
    "        \n",
    "        self.ann = nn.Sequential(\n",
    "            nn.Linear(42, 100),\n",
    "            nn.ReLU(),\n",
    "            nn.Linear(100,100),\n",
    "            nn.ReLU(),\n",
    "            nn.Linear(100,100),\n",
    "            nn.ReLU(),\n",
    "            nn.Linear(100,100),\n",
    "            nn.ReLU(),\n",
    "            nn.Linear(100,100),\n",
    "            nn.ReLU(),\n",
    "            nn.Linear(100,6),\n",
    "            nn.Sigmoid()\n",
    "        )\n",
    "    \n",
    "    def forward(self, x):\n",
    "        return self.ann(x)\n",
    "    \n",
    "model = SimpleANN().to(device)\n",
    "model"
   ]
  },
  {
   "cell_type": "markdown",
   "id": "f6817405",
   "metadata": {},
   "source": [
    "# Training"
   ]
  },
  {
   "cell_type": "code",
   "execution_count": 7,
   "id": "cf51f277",
   "metadata": {},
   "outputs": [
    {
     "name": "stdout",
     "output_type": "stream",
     "text": [
      "Starting training...\n",
      "Epoch: 1 \t Batch: 1 \t Loss: 0.9274559617042542\n",
      "Epoch: 2 \t Batch: 1 \t Loss: 0.382354736328125\n",
      "Epoch: 3 \t Batch: 1 \t Loss: 0.3263353109359741\n",
      "Epoch: 4 \t Batch: 1 \t Loss: 0.2842007279396057\n",
      "Epoch: 5 \t Batch: 1 \t Loss: 0.24717901647090912\n",
      "Epoch: 6 \t Batch: 1 \t Loss: 0.2026127129793167\n",
      "Epoch: 7 \t Batch: 1 \t Loss: 0.18061290681362152\n",
      "Epoch: 8 \t Batch: 1 \t Loss: 0.15235492587089539\n",
      "Epoch: 9 \t Batch: 1 \t Loss: 0.14831013977527618\n",
      "Epoch: 10 \t Batch: 1 \t Loss: 0.14215128123760223\n",
      "Epoch: 11 \t Batch: 1 \t Loss: 0.11294246464967728\n",
      "Epoch: 12 \t Batch: 1 \t Loss: 0.11683312803506851\n",
      "Epoch: 13 \t Batch: 1 \t Loss: 0.10055937618017197\n",
      "Epoch: 14 \t Batch: 1 \t Loss: 0.08793552219867706\n",
      "Epoch: 15 \t Batch: 1 \t Loss: 0.07741498947143555\n",
      "Epoch: 16 \t Batch: 1 \t Loss: 0.07513013482093811\n",
      "Epoch: 17 \t Batch: 1 \t Loss: 0.06444180011749268\n",
      "Epoch: 18 \t Batch: 1 \t Loss: 0.061561960726976395\n",
      "Epoch: 19 \t Batch: 1 \t Loss: 0.06089157983660698\n",
      "Epoch: 20 \t Batch: 1 \t Loss: 0.053809113800525665\n",
      "Epoch: 21 \t Batch: 1 \t Loss: 0.05385184660553932\n",
      "Epoch: 22 \t Batch: 1 \t Loss: 0.04759771004319191\n",
      "Epoch: 23 \t Batch: 1 \t Loss: 0.04302027449011803\n",
      "Epoch: 24 \t Batch: 1 \t Loss: 0.0388665497303009\n",
      "Epoch: 25 \t Batch: 1 \t Loss: 0.0399559810757637\n",
      "Epoch: 26 \t Batch: 1 \t Loss: 0.036808233708143234\n",
      "Epoch: 27 \t Batch: 1 \t Loss: 0.03490272909402847\n",
      "Epoch: 28 \t Batch: 1 \t Loss: 0.03478255122900009\n",
      "Epoch: 29 \t Batch: 1 \t Loss: 0.033632393926382065\n",
      "Epoch: 30 \t Batch: 1 \t Loss: 0.0340120792388916\n",
      "Epoch: 31 \t Batch: 1 \t Loss: 0.028104102239012718\n",
      "Epoch: 32 \t Batch: 1 \t Loss: 0.03236083313822746\n",
      "Epoch: 33 \t Batch: 1 \t Loss: 0.028179733082652092\n",
      "Epoch: 34 \t Batch: 1 \t Loss: 0.027158662676811218\n",
      "Epoch: 35 \t Batch: 1 \t Loss: 0.025791950523853302\n",
      "Epoch: 36 \t Batch: 1 \t Loss: 0.02184147574007511\n",
      "Epoch: 37 \t Batch: 1 \t Loss: 0.024216679856181145\n",
      "Epoch: 38 \t Batch: 1 \t Loss: 0.021931996569037437\n",
      "Epoch: 39 \t Batch: 1 \t Loss: 0.021867850795388222\n",
      "Epoch: 40 \t Batch: 1 \t Loss: 0.01961698941886425\n",
      "Epoch: 41 \t Batch: 1 \t Loss: 0.020192697644233704\n",
      "Epoch: 42 \t Batch: 1 \t Loss: 0.022274192422628403\n",
      "Epoch: 43 \t Batch: 1 \t Loss: 0.016867859289050102\n",
      "Epoch: 44 \t Batch: 1 \t Loss: 0.01747865229845047\n",
      "Epoch: 45 \t Batch: 1 \t Loss: 0.017580730840563774\n",
      "Epoch: 46 \t Batch: 1 \t Loss: 0.01713152602314949\n",
      "Epoch: 47 \t Batch: 1 \t Loss: 0.01837592013180256\n",
      "Epoch: 48 \t Batch: 1 \t Loss: 0.017025163397192955\n",
      "Epoch: 49 \t Batch: 1 \t Loss: 0.016968924552202225\n",
      "Epoch: 50 \t Batch: 1 \t Loss: 0.014827369712293148\n",
      "Epoch: 51 \t Batch: 1 \t Loss: 0.014640932902693748\n",
      "Epoch: 52 \t Batch: 1 \t Loss: 0.013178233057260513\n",
      "Epoch: 53 \t Batch: 1 \t Loss: 0.01556316576898098\n",
      "Epoch: 54 \t Batch: 1 \t Loss: 0.012336206622421741\n",
      "Epoch: 55 \t Batch: 1 \t Loss: 0.013336701318621635\n",
      "Epoch: 56 \t Batch: 1 \t Loss: 0.012770138680934906\n",
      "Epoch: 57 \t Batch: 1 \t Loss: 0.01334364339709282\n",
      "Epoch: 58 \t Batch: 1 \t Loss: 0.011878334917128086\n",
      "Epoch: 59 \t Batch: 1 \t Loss: 0.012461959384381771\n",
      "Epoch: 60 \t Batch: 1 \t Loss: 0.012543757446110249\n",
      "Epoch: 61 \t Batch: 1 \t Loss: 0.011399785056710243\n",
      "Epoch: 62 \t Batch: 1 \t Loss: 0.011091204360127449\n",
      "Epoch: 63 \t Batch: 1 \t Loss: 0.012713831849396229\n",
      "Epoch: 64 \t Batch: 1 \t Loss: 0.011042124591767788\n",
      "Epoch: 65 \t Batch: 1 \t Loss: 0.009386680088937283\n",
      "Epoch: 66 \t Batch: 1 \t Loss: 0.009542906656861305\n",
      "Epoch: 67 \t Batch: 1 \t Loss: 0.009787758812308311\n",
      "Epoch: 68 \t Batch: 1 \t Loss: 0.009856301359832287\n",
      "Epoch: 69 \t Batch: 1 \t Loss: 0.010640661232173443\n",
      "Epoch: 70 \t Batch: 1 \t Loss: 0.009997744113206863\n",
      "Epoch: 71 \t Batch: 1 \t Loss: 0.009707768447697163\n",
      "Epoch: 72 \t Batch: 1 \t Loss: 0.00939538236707449\n",
      "Epoch: 73 \t Batch: 1 \t Loss: 0.008841315284371376\n",
      "Epoch: 74 \t Batch: 1 \t Loss: 0.008577263914048672\n",
      "Epoch: 75 \t Batch: 1 \t Loss: 0.009436978958547115\n",
      "Epoch: 76 \t Batch: 1 \t Loss: 0.0077796452678740025\n",
      "Epoch: 77 \t Batch: 1 \t Loss: 0.008681711740791798\n",
      "Epoch: 78 \t Batch: 1 \t Loss: 0.007655072491616011\n",
      "Epoch: 79 \t Batch: 1 \t Loss: 0.006329762749373913\n",
      "Epoch: 80 \t Batch: 1 \t Loss: 0.008616503328084946\n",
      "Epoch: 81 \t Batch: 1 \t Loss: 0.007798663340508938\n",
      "Epoch: 82 \t Batch: 1 \t Loss: 0.006750366650521755\n",
      "Epoch: 83 \t Batch: 1 \t Loss: 0.00801966805011034\n",
      "Epoch: 84 \t Batch: 1 \t Loss: 0.00763273797929287\n",
      "Epoch: 85 \t Batch: 1 \t Loss: 0.007360928226262331\n",
      "Epoch: 86 \t Batch: 1 \t Loss: 0.0061978986486792564\n",
      "Epoch: 87 \t Batch: 1 \t Loss: 0.006858780514448881\n",
      "Epoch: 88 \t Batch: 1 \t Loss: 0.008925512433052063\n",
      "Epoch: 89 \t Batch: 1 \t Loss: 0.0063887694850564\n",
      "Epoch: 90 \t Batch: 1 \t Loss: 0.006688487716019154\n",
      "Epoch: 91 \t Batch: 1 \t Loss: 0.006874370388686657\n",
      "Epoch: 92 \t Batch: 1 \t Loss: 0.006234758999198675\n",
      "Epoch: 93 \t Batch: 1 \t Loss: 0.005636805668473244\n",
      "Epoch: 94 \t Batch: 1 \t Loss: 0.005856901872903109\n",
      "Epoch: 95 \t Batch: 1 \t Loss: 0.00609729764983058\n",
      "Epoch: 96 \t Batch: 1 \t Loss: 0.005262546706944704\n",
      "Epoch: 97 \t Batch: 1 \t Loss: 0.006245874334126711\n",
      "Epoch: 98 \t Batch: 1 \t Loss: 0.005934036336839199\n",
      "Epoch: 99 \t Batch: 1 \t Loss: 0.004651450086385012\n",
      "Epoch: 100 \t Batch: 1 \t Loss: 0.0058779180981218815\n",
      "Finished training\n"
     ]
    }
   ],
   "source": [
    "optim = torch.optim.SGD(params=model.parameters(), lr=0.01)\n",
    "\n",
    "print(\"Starting training...\")\n",
    "\n",
    "loss_fn = nn.BCELoss()\n",
    "\n",
    "n_epochs = 100\n",
    "for epoch in range(n_epochs):\n",
    "    for i, (annotations, labels) in enumerate(train_dataloader):\n",
    "        \n",
    "        outputs = model(annotations)\n",
    "        loss = loss_fn(outputs, labels)\n",
    "\n",
    "        optim.zero_grad()\n",
    "        loss.backward()\n",
    "        optim.step()\n",
    "        \n",
    "        if i % 25 == 0:\n",
    "            print(f'Epoch: {epoch+1} \\t Batch: {i+1} \\t Loss: {loss.item()}')\n",
    "\n",
    "print(\"Finished training\")"
   ]
  },
  {
   "cell_type": "code",
   "execution_count": 12,
   "id": "6c7fa4f5",
   "metadata": {},
   "outputs": [],
   "source": [
    "# save the model\n",
    "torch.save(model.state_dict(), \"first_good_simpleann.pth\")"
   ]
  },
  {
   "cell_type": "code",
   "execution_count": null,
   "id": "6c08bcf2",
   "metadata": {},
   "outputs": [],
   "source": [
    "model = SimpleCNN().to(device)\n",
    "model.load_state_dict(torch.load('first_good_simpleann.pth'))"
   ]
  },
  {
   "cell_type": "markdown",
   "id": "fe847628",
   "metadata": {},
   "source": [
    "# Validation"
   ]
  },
  {
   "cell_type": "code",
   "execution_count": 8,
   "id": "75bce10b",
   "metadata": {},
   "outputs": [
    {
     "name": "stdout",
     "output_type": "stream",
     "text": [
      "Training accuracy is: 99.81%\n",
      "Test accuracy is: 94.73%\n"
     ]
    }
   ],
   "source": [
    "with torch.no_grad():  # use no grad\n",
    "    correct = 0\n",
    "    for point in training_data:\n",
    "        if torch.argmax(model(point[0])) == torch.argmax(point[1]):\n",
    "            correct += 1\n",
    "    correct_percent = correct / len(training_data)\n",
    "    print(f\"Training accuracy is: {correct_percent*100:.2f}%\")\n",
    "    \n",
    "    # then the test accuracy\n",
    "    correct = 0\n",
    "    for point in validation_data:\n",
    "        if torch.argmax(model(point[0])) == torch.argmax(point[1]):\n",
    "            correct += 1\n",
    "    correct_percent = correct / len(validation_data)\n",
    "    print(f\"Test accuracy is: {correct_percent*100:.2f}%\")"
   ]
  },
  {
   "cell_type": "code",
   "execution_count": 10,
   "id": "35dece88",
   "metadata": {},
   "outputs": [
    {
     "data": {
      "image/png": "[encoded data removed]",
      "text/plain": [
       "<Figure size 640x480 with 2 Axes>"
      ]
     },
     "metadata": {},
     "output_type": "display_data"
    }
   ],
   "source": [
    "Y_true = np.array([])\n",
    "Y_pred = np.array([])\n",
    "\n",
    "letters = [\"A\", \"B\", \"C\", \"L\", \"R\", \"U\"]\n",
    "\n",
    "\n",
    "for i in range(len(validation_set)):\n",
    "    annotation, label = validation_set.__getitem__(i)\n",
    "    Y_true = np.append(Y_true, torch.argmax(label).cpu())\n",
    "    Y_pred = np.append(Y_pred, torch.argmax(model(annotation)).cpu())\n",
    "\n",
    "ConfusionMatrixDisplay.from_predictions(\n",
    "    Y_true,\n",
    "    Y_pred, \n",
    "    normalize=\"pred\",\n",
    "    display_labels=letters,\n",
    "    values_format=\".2f\"\n",
    ")\n",
    "plt.show()"
   ]
  },
  {
   "cell_type": "code",
   "execution_count": null,
   "id": "8f6273e0",
   "metadata": {},
   "outputs": [],
   "source": []
  }
 ],
 "metadata": {
  "kernelspec": {
   "display_name": "Python 3 (ipykernel)",
   "language": "python",
   "name": "python3"
  },
  "language_info": {
   "codemirror_mode": {
    "name": "ipython",
    "version": 3
   },
   "file_extension": ".py",
   "mimetype": "text/x-python",
   "name": "python",
   "nbconvert_exporter": "python",
   "pygments_lexer": "ipython3",
   "version": "3.9.13"
  }
 },
 "nbformat": 4,
 "nbformat_minor": 5
}
