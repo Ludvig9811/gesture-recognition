{
 "cells": [
  {
   "cell_type": "markdown",
   "id": "a9548bde",
   "metadata": {},
   "source": [
    "# Imports"
   ]
  },
  {
   "cell_type": "code",
   "execution_count": 1,
   "id": "83b8b65d",
   "metadata": {},
   "outputs": [],
   "source": [
    "import numpy as np\n",
    "import torch\n",
    "from torch import nn\n",
    "import pandas as pd\n",
    "import pickle\n",
    "from sklearn.metrics import ConfusionMatrixDisplay\n",
    "\n",
    "import torchvision\n",
    "from PIL import Image, ImageDraw\n",
    "import matplotlib.pyplot as plt\n",
    "import os"
   ]
  },
  {
   "cell_type": "markdown",
   "id": "88d99033",
   "metadata": {},
   "source": [
    "# Cuda cores goes brrrrrrr"
   ]
  },
  {
   "cell_type": "code",
   "execution_count": 2,
   "id": "7956adb8",
   "metadata": {},
   "outputs": [
    {
     "data": {
      "text/plain": [
       "True"
      ]
     },
     "execution_count": 2,
     "metadata": {},
     "output_type": "execute_result"
    }
   ],
   "source": [
    "device = torch.device(\"cuda\" if torch.cuda.is_available() else \"cpu\")\n",
    "torch.cuda.is_available()"
   ]
  },
  {
   "cell_type": "markdown",
   "id": "cf0b08e1",
   "metadata": {},
   "source": [
    "# Load data"
   ]
  },
  {
   "cell_type": "code",
   "execution_count": null,
   "id": "68263173",
   "metadata": {},
   "outputs": [],
   "source": [
    "letters = [\"A\", \"B\", \"C\", \"L\", \"R\", \"U\"]\n",
    "data = []\n",
    "removed_videos = {}\n",
    "\n",
    "frames_per_video = 10\n",
    "\n",
    "for letter in letters:\n",
    "    \n",
    "    removed_videos[letter] = []\n",
    "    anno_df = pd.read_csv(\"data/ASL_letter_\" + letter + \"/annotations.csv\")\n",
    "    nr = 0\n",
    "    while True:\n",
    "            \n",
    "        try:\n",
    "            \n",
    "            video = torchvision.io.read_video(\"data/ASL_letter_\" + letter + \"/videos/video_\" + str(nr) + \".mp4\")\n",
    "            if video[0].shape[1] == 480 and video[0].shape[2] == 640:\n",
    "                for i in range(frames_per_video):\n",
    "                    frame = np.random.randint(0, video[0].shape[0])\n",
    "                    \n",
    "                    frame_df = anno_df.loc[np.logical_and(anno_df['video_idx'] == nr, anno_df['frame'] == frame)]\n",
    "                    x = torch.tensor(frame_df['x'].values)\n",
    "                    y = torch.tensor(frame_df['y'].values)\n",
    "\n",
    "                    annotations = np.array([])\n",
    "                    for i in range(x.shape[0]):\n",
    "                        annotations = np.append(annotations, [x[i], y[i]])\n",
    "                        \n",
    "                    image = torch.movedim(video[0][frame, :, :, :].float(), (0,1,2), (2,1,0))\n",
    "                    \n",
    "                    labels = [ 1 if x == letter else 0 for x in letters ]\n",
    "                    labels = torch.tensor(labels, dtype=torch.float32)\n",
    "                    \n",
    "                    data.append((image, labels))\n",
    "            else:\n",
    "                removed_videos[letter].append(nr)\n",
    "                \n",
    "            nr += 1\n",
    "            \n",
    "        except RuntimeError:\n",
    "            break\n",
    "\n",
    "print(\"Success!\")"
   ]
  },
  {
   "cell_type": "markdown",
   "id": "1d9f570a",
   "metadata": {},
   "source": [
    "# Split data"
   ]
  },
  {
   "cell_type": "code",
   "execution_count": null,
   "id": "7dff55ec",
   "metadata": {},
   "outputs": [],
   "source": [
    "split = 0.8\n",
    "training_data = []\n",
    "validation_data = []\n",
    "\n",
    "total_videos = 0\n",
    "for letter in letters:\n",
    "    _, _, files = next(os.walk(\"data/ASL_letter_\" + letter + \"/videos\"))\n",
    "    file_count = len(files) - len(removed_videos[letter])\n",
    "    training_data = training_data + data[total_videos*frames_per_video:total_videos*frames_per_video + frames_per_video*int(split*file_count)]\n",
    "    validation_data = validation_data + data[total_videos*frames_per_video + frames_per_video*int(split*file_count):total_videos*frames_per_video + frames_per_video*file_count]\n",
    "    total_videos += file_count\n",
    "\n",
    "len(training_data), len(validation_data)"
   ]
  },
  {
   "cell_type": "code",
   "execution_count": null,
   "id": "832d67bb",
   "metadata": {},
   "outputs": [],
   "source": [
    "file = open('training_data3', 'wb')\n",
    "pickle.dump(training_data, file)\n",
    "file.close()\n",
    "\n",
    "file = open('validation_data3', 'wb')\n",
    "pickle.dump(validation_data, file)\n",
    "file.close()"
   ]
  },
  {
   "cell_type": "code",
   "execution_count": 3,
   "id": "a92da1bf",
   "metadata": {},
   "outputs": [],
   "source": [
    "file = open('training_data3', 'rb')\n",
    "training_data = pickle.load(file)\n",
    "file.close()\n",
    "\n",
    "file = open('validation_data3', 'rb')\n",
    "validation_data = pickle.load(file)\n",
    "file.close()"
   ]
  },
  {
   "cell_type": "markdown",
   "id": "b65dfa3a",
   "metadata": {},
   "source": [
    "## Creating Dataset"
   ]
  },
  {
   "cell_type": "code",
   "execution_count": 4,
   "id": "2da21747",
   "metadata": {},
   "outputs": [],
   "source": [
    "class GesturesDataset(torch.utils.data.Dataset):\n",
    "    \n",
    "    def __init__(self, d):\n",
    "        self.data = d\n",
    "    \n",
    "    def __len__(self):\n",
    "        return len(self.data)\n",
    "    \n",
    "    def __getitem__(self, idx):\n",
    "        datapoint = self.data[idx]\n",
    "        return datapoint[0], datapoint[1]"
   ]
  },
  {
   "cell_type": "markdown",
   "id": "2a06cdf6",
   "metadata": {},
   "source": [
    "## Initializing DataLoader"
   ]
  },
  {
   "cell_type": "code",
   "execution_count": 5,
   "id": "8daab903",
   "metadata": {},
   "outputs": [],
   "source": [
    "batch_size = 200\n",
    "\n",
    "training_set = GesturesDataset(training_data)\n",
    "validation_set = GesturesDataset(validation_data)\n",
    "\n",
    "train_dataloader = torch.utils.data.DataLoader(training_set, batch_size=batch_size, shuffle=True)\n",
    "validation_dataloader = torch.utils.data.DataLoader(validation_set, batch_size=100, shuffle=True)"
   ]
  },
  {
   "cell_type": "markdown",
   "id": "72345387",
   "metadata": {},
   "source": [
    "# Creating the model"
   ]
  },
  {
   "cell_type": "markdown",
   "id": "c5c0eb43",
   "metadata": {},
   "source": [
    "## The model"
   ]
  },
  {
   "cell_type": "code",
   "execution_count": 6,
   "id": "328763a2",
   "metadata": {},
   "outputs": [
    {
     "data": {
      "text/plain": [
       "SimpleCNN(\n",
       "  (cnn): Sequential(\n",
       "    (0): Conv2d(3, 6, kernel_size=(5, 5), stride=(1, 1))\n",
       "    (1): ReLU()\n",
       "    (2): MaxPool2d(kernel_size=2, stride=2, padding=0, dilation=1, ceil_mode=False)\n",
       "    (3): Conv2d(6, 1, kernel_size=(5, 5), stride=(1, 1))\n",
       "    (4): ReLU()\n",
       "    (5): MaxPool2d(kernel_size=2, stride=2, padding=0, dilation=1, ceil_mode=False)\n",
       "    (6): Flatten(start_dim=1, end_dim=-1)\n",
       "    (7): Linear(in_features=18369, out_features=1000, bias=True)\n",
       "    (8): ReLU()\n",
       "    (9): Linear(in_features=1000, out_features=1000, bias=True)\n",
       "    (10): ReLU()\n",
       "    (11): Linear(in_features=1000, out_features=6, bias=True)\n",
       "    (12): Softmax(dim=None)\n",
       "  )\n",
       ")"
      ]
     },
     "execution_count": 6,
     "metadata": {},
     "output_type": "execute_result"
    }
   ],
   "source": [
    "class SimpleCNN(nn.Module):\n",
    "    def __init__(self):  \n",
    "        super().__init__()\n",
    "        \n",
    "        self.cnn = nn.Sequential(\n",
    "            nn.Conv2d(3, 6, 5),\n",
    "            nn.ReLU(), \n",
    "            nn.MaxPool2d(2, 2),\n",
    "            nn.Conv2d(6, 1, 5),\n",
    "            nn.ReLU(),\n",
    "            nn.MaxPool2d(2, 2),\n",
    "            nn.Flatten(),\n",
    "            nn.Linear(18369, 1000),\n",
    "            nn.ReLU(),\n",
    "            nn.Linear(1000, 1000),\n",
    "            nn.ReLU(),\n",
    "            nn.Linear(1000, 6),\n",
    "            nn.Softmax()\n",
    "        )\n",
    "        \n",
    "    def forward(self, x):\n",
    "        return self.cnn(x)\n",
    "    \n",
    "model = SimpleCNN().to(device)\n",
    "model"
   ]
  },
  {
   "cell_type": "markdown",
   "id": "cce383a2",
   "metadata": {},
   "source": [
    "## Training"
   ]
  },
  {
   "cell_type": "code",
   "execution_count": null,
   "id": "5634ede0",
   "metadata": {},
   "outputs": [],
   "source": [
    "loss_fn = nn.BCELoss()\n",
    "optim = torch.optim.Adam(model.parameters(), lr=0.0001)\n",
    "\n",
    "n_epochs = 100\n",
    "\n",
    "losses = np.array([])\n",
    "\n",
    "print(\"Starting training...\")\n",
    "\n",
    "model.train()  # set model in training mode\n",
    "\n",
    "# loop over the dataset multiple times, similar to our \"steps\" used before\n",
    "for epoch in range(n_epochs):\n",
    "    for i, (images, labels) in enumerate(train_dataloader):\n",
    "        \n",
    "        outputs = model(images.to(device))\n",
    "\n",
    "        loss = loss_fn(outputs, labels.to(device))\n",
    "        \n",
    "        optim.zero_grad()\n",
    "        loss.backward()\n",
    "        optim.step()\n",
    "        \n",
    "        losses = np.append(losses, loss.item())\n",
    "        print(f'Epoch: {epoch+1} \\t Batch: {i+1} \\t Loss: {loss.item()}')\n",
    "\n",
    "print('Finished Training')"
   ]
  },
  {
   "cell_type": "code",
   "execution_count": null,
   "id": "ae5aea8d",
   "metadata": {},
   "outputs": [],
   "source": [
    "plt.plot(losses)\n",
    "plt.show()"
   ]
  },
  {
   "cell_type": "code",
   "execution_count": null,
   "id": "837c3f80",
   "metadata": {},
   "outputs": [],
   "source": [
    "# save the model\n",
    "torch.save(model.state_dict(), \"first_good_simplecnn_end_to_end.pth\")"
   ]
  },
  {
   "cell_type": "code",
   "execution_count": 7,
   "id": "731b457c",
   "metadata": {},
   "outputs": [
    {
     "data": {
      "text/plain": [
       "<All keys matched successfully>"
      ]
     },
     "execution_count": 7,
     "metadata": {},
     "output_type": "execute_result"
    }
   ],
   "source": [
    "model = SimpleCNN().to(device)\n",
    "model.load_state_dict(torch.load('first_good_simplecnn_end_to_end.pth'))"
   ]
  },
  {
   "cell_type": "markdown",
   "id": "b22bb8da",
   "metadata": {},
   "source": [
    "# Validation"
   ]
  },
  {
   "cell_type": "code",
   "execution_count": 8,
   "id": "e2f4e495",
   "metadata": {},
   "outputs": [
    {
     "name": "stderr",
     "output_type": "stream",
     "text": [
      "C:\\Users\\ludvi\\anaconda3\\lib\\site-packages\\torch\\nn\\modules\\container.py:204: UserWarning: Implicit dimension choice for softmax has been deprecated. Change the call to include dim=X as an argument.\n",
      "  input = module(input)\n"
     ]
    },
    {
     "name": "stdout",
     "output_type": "stream",
     "text": [
      "Training accuracy is: 100.00%\n",
      "Test accuracy is: 18.10%\n"
     ]
    }
   ],
   "source": [
    "with torch.no_grad():  # use no grad\n",
    "    correct = 0\n",
    "    for point in training_data:\n",
    "        if torch.argmax(model(point[0].to(device))) == torch.argmax(point[1]):\n",
    "            correct += 1\n",
    "    correct_percent = correct / len(training_data)\n",
    "    print(f\"Training accuracy is: {correct_percent*100:.2f}%\")\n",
    "    \n",
    "    # then the test accuracy\n",
    "    correct = 0\n",
    "    for point in validation_data:\n",
    "        if torch.argmax(model(point[0].to(device))) == torch.argmax(point[1]):\n",
    "            correct += 1\n",
    "    correct_percent = correct / len(validation_data)\n",
    "    print(f\"Test accuracy is: {correct_percent*100:.2f}%\")"
   ]
  },
  {
   "cell_type": "code",
   "execution_count": 9,
   "id": "609088d4",
   "metadata": {},
   "outputs": [
    {
     "data": {
      "image/png": "[encoded data removed]",
      "text/plain": [
       "<Figure size 640x480 with 2 Axes>"
      ]
     },
     "metadata": {},
     "output_type": "display_data"
    }
   ],
   "source": [
    "Y_true = np.array([])\n",
    "Y_pred = np.array([])\n",
    "\n",
    "letters = [\"A\", \"B\", \"C\", \"L\", \"R\", \"U\"]\n",
    "\n",
    "for i in range(len(validation_set)):\n",
    "    annotation, label = validation_set.__getitem__(i)\n",
    "    Y_true = np.append(Y_true, torch.argmax(label).cpu())\n",
    "    Y_pred = np.append(Y_pred, torch.argmax(model(annotation.to(device))).cpu())\n",
    "\n",
    "ConfusionMatrixDisplay.from_predictions(\n",
    "    Y_true,\n",
    "    Y_pred, \n",
    "    normalize=\"pred\",\n",
    "    display_labels=letters,\n",
    "    values_format=\".2f\"\n",
    ")\n",
    "plt.show()"
   ]
  }
 ],
 "metadata": {
  "kernelspec": {
   "display_name": "Python 3 (ipykernel)",
   "language": "python",
   "name": "python3"
  },
  "language_info": {
   "codemirror_mode": {
    "name": "ipython",
    "version": 3
   },
   "file_extension": ".py",
   "mimetype": "text/x-python",
   "name": "python",
   "nbconvert_exporter": "python",
   "pygments_lexer": "ipython3",
   "version": "3.9.13"
  }
 },
 "nbformat": 4,
 "nbformat_minor": 5
}
